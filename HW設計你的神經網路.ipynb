{
 "cells": [
  {
   "cell_type": "code",
   "execution_count": 1,
   "metadata": {},
   "outputs": [
    {
     "name": "stdout",
     "output_type": "stream",
     "text": [
      "env: KERAS_BACKEND=tensorflow\n"
     ]
    },
    {
     "name": "stderr",
     "output_type": "stream",
     "text": [
      "Using TensorFlow backend.\n"
     ]
    }
   ],
   "source": [
    "%matplotlib inline\n",
    "%env KERAS_BACKEND=tensorflow\n",
    "\n",
    "# 標準數據分析、畫圖套件\n",
    "import numpy as np\n",
    "import matplotlib.pyplot as plt\n",
    "import pandas as pd\n",
    "\n",
    "# 神經網路方面\n",
    "from keras.datasets import mnist\n",
    "from keras.utils import np_utils\n",
    "from keras.models import Sequential\n",
    "from keras.layers import Dense, Flatten\n",
    "from keras.optimizers import SGD\n",
    "\n",
    "# 互動設計用\n",
    "from ipywidgets import interact_manual"
   ]
  },
  {
   "cell_type": "code",
   "execution_count": 2,
   "metadata": {},
   "outputs": [],
   "source": [
    "(x_train, y_train), (x_test, y_test) = mnist.load_data()"
   ]
  },
  {
   "cell_type": "code",
   "execution_count": 3,
   "metadata": {},
   "outputs": [],
   "source": [
    "x_train = x_train/255\n",
    "x_test = x_test/255\n",
    "y_train = np_utils.to_categorical(y_train, 10)\n",
    "y_test = np_utils.to_categorical(y_test, 10)"
   ]
  },
  {
   "cell_type": "code",
   "execution_count": 4,
   "metadata": {},
   "outputs": [],
   "source": [
    "model = Sequential()"
   ]
  },
  {
   "cell_type": "code",
   "execution_count": 5,
   "metadata": {},
   "outputs": [],
   "source": [
    "model.add(Flatten(input_shape = (28, 28)))"
   ]
  },
  {
   "cell_type": "code",
   "execution_count": 6,
   "metadata": {},
   "outputs": [],
   "source": [
    "model.add(Dense(100, activation = 'relu'))"
   ]
  },
  {
   "cell_type": "code",
   "execution_count": 7,
   "metadata": {},
   "outputs": [],
   "source": [
    "model.add(Dense(225, activation = 'relu'))"
   ]
  },
  {
   "cell_type": "code",
   "execution_count": 8,
   "metadata": {},
   "outputs": [],
   "source": [
    "model.add(Dense(10, activation = 'softmax'))"
   ]
  },
  {
   "cell_type": "code",
   "execution_count": 9,
   "metadata": {},
   "outputs": [],
   "source": [
    "model.compile(loss='mse', optimizer=SGD(lr=1), metrics=['accuracy'])"
   ]
  },
  {
   "cell_type": "code",
   "execution_count": 10,
   "metadata": {},
   "outputs": [
    {
     "name": "stdout",
     "output_type": "stream",
     "text": [
      "_________________________________________________________________\n",
      "Layer (type)                 Output Shape              Param #   \n",
      "=================================================================\n",
      "flatten_1 (Flatten)          (None, 784)               0         \n",
      "_________________________________________________________________\n",
      "dense_1 (Dense)              (None, 100)               78500     \n",
      "_________________________________________________________________\n",
      "dense_2 (Dense)              (None, 225)               22725     \n",
      "_________________________________________________________________\n",
      "dense_3 (Dense)              (None, 10)                2260      \n",
      "=================================================================\n",
      "Total params: 103,485\n",
      "Trainable params: 103,485\n",
      "Non-trainable params: 0\n",
      "_________________________________________________________________\n"
     ]
    }
   ],
   "source": [
    "model.summary()"
   ]
  },
  {
   "cell_type": "code",
   "execution_count": 11,
   "metadata": {},
   "outputs": [
    {
     "name": "stdout",
     "output_type": "stream",
     "text": [
      "Epoch 1/20\n",
      "60000/60000 [==============================] - 12s 206us/step - loss: 0.0279 - acc: 0.8159\n",
      "Epoch 2/20\n",
      "60000/60000 [==============================] - 12s 192us/step - loss: 0.0122 - acc: 0.9222\n",
      "Epoch 3/20\n",
      "60000/60000 [==============================] - 13s 223us/step - loss: 0.0099 - acc: 0.9362\n",
      "Epoch 4/20\n",
      "60000/60000 [==============================] - 14s 227us/step - loss: 0.0084 - acc: 0.9460\n",
      "Epoch 5/20\n",
      "60000/60000 [==============================] - 14s 230us/step - loss: 0.0074 - acc: 0.9535\n",
      "Epoch 6/20\n",
      "60000/60000 [==============================] - 13s 217us/step - loss: 0.0065 - acc: 0.9593\n",
      "Epoch 7/20\n",
      "60000/60000 [==============================] - 14s 229us/step - loss: 0.0059 - acc: 0.9629\n",
      "Epoch 8/20\n",
      "60000/60000 [==============================] - 13s 221us/step - loss: 0.0054 - acc: 0.9669\n",
      "Epoch 9/20\n",
      "60000/60000 [==============================] - 14s 228us/step - loss: 0.0049 - acc: 0.9700\n",
      "Epoch 10/20\n",
      "60000/60000 [==============================] - 13s 223us/step - loss: 0.0046 - acc: 0.9722\n",
      "Epoch 11/20\n",
      "60000/60000 [==============================] - 13s 224us/step - loss: 0.0042 - acc: 0.9751\n",
      "Epoch 12/20\n",
      "60000/60000 [==============================] - 13s 212us/step - loss: 0.0039 - acc: 0.9769\n",
      "Epoch 13/20\n",
      "60000/60000 [==============================] - 13s 208us/step - loss: 0.0037 - acc: 0.9782\n",
      "Epoch 14/20\n",
      "60000/60000 [==============================] - 14s 227us/step - loss: 0.0034 - acc: 0.9794\n",
      "Epoch 15/20\n",
      "60000/60000 [==============================] - 13s 216us/step - loss: 0.0032 - acc: 0.9808\n",
      "Epoch 16/20\n",
      "60000/60000 [==============================] - 13s 213us/step - loss: 0.0031 - acc: 0.9824\n",
      "Epoch 17/20\n",
      "60000/60000 [==============================] - 13s 208us/step - loss: 0.0029 - acc: 0.9832\n",
      "Epoch 18/20\n",
      "60000/60000 [==============================] - 13s 211us/step - loss: 0.0027 - acc: 0.9843\n",
      "Epoch 19/20\n",
      "60000/60000 [==============================] - 13s 222us/step - loss: 0.0026 - acc: 0.9855\n",
      "Epoch 20/20\n",
      "60000/60000 [==============================] - 13s 213us/step - loss: 0.0025 - acc: 0.9860\n"
     ]
    },
    {
     "data": {
      "text/plain": [
       "<keras.callbacks.History at 0x7f28b5aceb38>"
      ]
     },
     "execution_count": 11,
     "metadata": {},
     "output_type": "execute_result"
    }
   ],
   "source": [
    "model.fit(x_train, y_train, batch_size = 100, epochs = 20) #batch_size 的意思是多久調整一次參數，epochs 的意思是訓練資料庫的次數"
   ]
  },
  {
   "cell_type": "code",
   "execution_count": 12,
   "metadata": {},
   "outputs": [],
   "source": [
    "predict = model.predict_classes(x_test)"
   ]
  },
  {
   "cell_type": "code",
   "execution_count": 13,
   "metadata": {},
   "outputs": [],
   "source": [
    "def test(測試編號):\n",
    "    plt.imshow(x_test[測試編號].reshape(28,28), cmap='Greys')\n",
    "    print('神經網路判斷為:', predict[測試編號])"
   ]
  },
  {
   "cell_type": "code",
   "execution_count": 14,
   "metadata": {},
   "outputs": [
    {
     "data": {
      "text/plain": [
       "interactive(children=(IntSlider(value=4999, description='測試編號', max=9999), Button(description='Run Interact', …"
      ]
     },
     "metadata": {},
     "output_type": "display_data"
    },
    {
     "data": {
      "text/plain": [
       "<function __main__.test(測試編號)>"
      ]
     },
     "execution_count": 14,
     "metadata": {},
     "output_type": "execute_result"
    }
   ],
   "source": [
    "interact_manual(test, 測試編號=(0,9999))"
   ]
  },
  {
   "cell_type": "code",
   "execution_count": 17,
   "metadata": {},
   "outputs": [
    {
     "name": "stdout",
     "output_type": "stream",
     "text": [
      "10000/10000 [==============================] - 2s 163us/step\n"
     ]
    }
   ],
   "source": [
    "score = model.evaluate(x_test, y_test)"
   ]
  },
  {
   "cell_type": "code",
   "execution_count": 18,
   "metadata": {},
   "outputs": [
    {
     "name": "stdout",
     "output_type": "stream",
     "text": [
      "loss: 0.003961532309572112\n",
      "正確率 0.9744\n"
     ]
    }
   ],
   "source": [
    "print('loss:', score[0])\n",
    "print('正確率', score[1])"
   ]
  },
  {
   "cell_type": "code",
   "execution_count": null,
   "metadata": {},
   "outputs": [],
   "source": []
  }
 ],
 "metadata": {
  "kernelspec": {
   "display_name": "Python 3.6",
   "language": "python",
   "name": "python36"
  },
  "language_info": {
   "codemirror_mode": {
    "name": "ipython",
    "version": 3
   },
   "file_extension": ".py",
   "mimetype": "text/x-python",
   "name": "python",
   "nbconvert_exporter": "python",
   "pygments_lexer": "ipython3",
   "version": "3.6.6"
  }
 },
 "nbformat": 4,
 "nbformat_minor": 2
}
